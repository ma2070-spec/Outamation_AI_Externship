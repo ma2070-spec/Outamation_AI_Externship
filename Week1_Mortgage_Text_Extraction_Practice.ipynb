{
  "nbformat": 4,
  "nbformat_minor": 0,
  "metadata": {
    "colab": {
      "provenance": [],
      "authorship_tag": "ABX9TyMC2nCRiVurLu50VfCRcp6H",
      "include_colab_link": true
    },
    "kernelspec": {
      "name": "python3",
      "display_name": "Python 3"
    },
    "language_info": {
      "name": "python"
    }
  },
  "cells": [
    {
      "cell_type": "markdown",
      "metadata": {
        "id": "view-in-github",
        "colab_type": "text"
      },
      "source": [
        "<a href=\"https://colab.research.google.com/github/ma2070-spec/Outamation_AI_Externship/blob/main/Week1_Mortgage_Text_Extraction_Practice.ipynb\" target=\"_parent\"><img src=\"https://colab.research.google.com/assets/colab-badge.svg\" alt=\"Open In Colab\"/></a>"
      ]
    },
    {
      "cell_type": "code",
      "execution_count": 1,
      "metadata": {
        "id": "0Y-FKh5Uthna",
        "colab": {
          "base_uri": "https://localhost:8080/"
        },
        "outputId": "11c943e9-9c9a-465f-f4ae-d6fa5fcfd0e7"
      },
      "outputs": [
        {
          "output_type": "stream",
          "name": "stdout",
          "text": [
            "Date: ['06/14/2023']\n",
            "Salary: ['$4,800', '$220,000']\n",
            "Account #: ['102938475610']\n"
          ]
        }
      ],
      "source": [
        "import re\n",
        "\n",
        "# Sample text simulating mortgage document\n",
        "mortgage_text = \"\"\"\n",
        "Borrower: Mariam A. Applied on 06/14/2023\n",
        "Salary: $4,800/month. Loan Amount: $220,000\n",
        "Address: 101 Cedar Lane, Dallas TX\n",
        "Account #: 102938475610 | Routing #: 031000503\n",
        "\"\"\"\n",
        "\n",
        "# Extract dates\n",
        "dates = re.findall(r'\\d{2}/\\d{2}/\\d{4}', mortgage_text)\n",
        "\n",
        "# Extract salary\n",
        "salary = re.findall(r'\\$\\d{1,3}(?:,\\d{3})*(?:\\.\\d{2})?', mortgage_text)\n",
        "\n",
        "# Extract account numbers (12 digits)\n",
        "accounts = re.findall(r'\\b\\d{12}\\b', mortgage_text)\n",
        "\n",
        "# Print results\n",
        "print(\"Date:\", dates)\n",
        "print(\"Salary:\", salary)\n",
        "print(\"Account #:\", accounts)\n"
      ]
    }
  ]
}