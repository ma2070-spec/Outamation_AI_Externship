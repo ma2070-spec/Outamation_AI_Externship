{
  "nbformat": 4,
  "nbformat_minor": 0,
  "metadata": {
    "colab": {
      "provenance": [],
      "authorship_tag": "ABX9TyNTq4wcyFDoJfFo78d9Er3N",
      "include_colab_link": true
    },
    "kernelspec": {
      "name": "python3",
      "display_name": "Python 3"
    },
    "language_info": {
      "name": "python"
    }
  },
  "cells": [
    {
      "cell_type": "markdown",
      "metadata": {
        "id": "view-in-github",
        "colab_type": "text"
      },
      "source": [
        "<a href=\"https://colab.research.google.com/github/ma2070-spec/Outamation_AI_Externship/blob/main/Project_2_Cleaning_Missing_Removing%20Duplicates.ipynb\" target=\"_parent\"><img src=\"https://colab.research.google.com/assets/colab-badge.svg\" alt=\"Open In Colab\"/></a>"
      ]
    },
    {
      "cell_type": "code",
      "execution_count": 8,
      "metadata": {
        "colab": {
          "base_uri": "https://localhost:8080/",
          "height": 211
        },
        "id": "YIsyuJRI_7Jc",
        "outputId": "2e03ae3e-9406-4e1f-b4f5-3ea6b57301d3"
      },
      "outputs": [
        {
          "output_type": "error",
          "ename": "NameError",
          "evalue": "name 'pd' is not defined",
          "traceback": [
            "\u001b[0;31m---------------------------------------------------------------------------\u001b[0m",
            "\u001b[0;31mNameError\u001b[0m                                 Traceback (most recent call last)",
            "\u001b[0;32m/tmp/ipython-input-257344203.py\u001b[0m in \u001b[0;36m<cell line: 0>\u001b[0;34m()\u001b[0m\n\u001b[0;32m----> 1\u001b[0;31m \u001b[0mpd\u001b[0m \u001b[0;31m# Import Pandas as pd # Create a small dataset\u001b[0m\u001b[0;34m\u001b[0m\u001b[0;34m\u001b[0m\u001b[0m\n\u001b[0m\u001b[1;32m      2\u001b[0m \u001b[0mdata\u001b[0m \u001b[0;34m=\u001b[0m \u001b[0;34m{\u001b[0m\u001b[0;34m\"Name\"\u001b[0m\u001b[0;34m:\u001b[0m \u001b[0;34m[\u001b[0m\u001b[0;34m\"Alice\"\u001b[0m\u001b[0;34m,\u001b[0m \u001b[0;34m\"Bob\"\u001b[0m\u001b[0;34m,\u001b[0m \u001b[0;34m\"Charlie\"\u001b[0m\u001b[0;34m]\u001b[0m\u001b[0;34m,\u001b[0m \u001b[0;34m\"Age\"\u001b[0m\u001b[0;34m:\u001b[0m \u001b[0;34m[\u001b[0m\u001b[0;36m25\u001b[0m\u001b[0;34m,\u001b[0m \u001b[0;36m30\u001b[0m\u001b[0;34m,\u001b[0m \u001b[0;36m35\u001b[0m\u001b[0;34m]\u001b[0m\u001b[0;34m}\u001b[0m\u001b[0;34m\u001b[0m\u001b[0;34m\u001b[0m\u001b[0m\n\u001b[1;32m      3\u001b[0m \u001b[0mdf\u001b[0m \u001b[0;34m=\u001b[0m \u001b[0mpd\u001b[0m\u001b[0;34m.\u001b[0m\u001b[0mDataFrame\u001b[0m\u001b[0;34m(\u001b[0m\u001b[0mdata\u001b[0m\u001b[0;34m)\u001b[0m \u001b[0;31m# Convert dictionary to DataFrame print(df)\u001b[0m\u001b[0;34m\u001b[0m\u001b[0;34m\u001b[0m\u001b[0m\n\u001b[1;32m      4\u001b[0m \u001b[0mdf\u001b[0m\u001b[0;34m[\u001b[0m\u001b[0;34m\"Country\"\u001b[0m\u001b[0;34m]\u001b[0m \u001b[0;34m=\u001b[0m \u001b[0;34m[\u001b[0m\u001b[0;34m\"USA\"\u001b[0m\u001b[0;34m,\u001b[0m \u001b[0;34m\"Canada\"\u001b[0m\u001b[0;34m,\u001b[0m \u001b[0;34m\"UK\"\u001b[0m\u001b[0;34m]\u001b[0m \u001b[0;31m#\u001b[0m\u001b[0;34m\u001b[0m\u001b[0;34m\u001b[0m\u001b[0m\n\u001b[1;32m      5\u001b[0m \u001b[0mdf\u001b[0m\u001b[0;34m.\u001b[0m\u001b[0msort_values\u001b[0m\u001b[0;34m(\u001b[0m\u001b[0mby\u001b[0m\u001b[0;34m=\u001b[0m\u001b[0;34m\"Age\"\u001b[0m\u001b[0;34m)\u001b[0m\u001b[0;34m\u001b[0m\u001b[0;34m\u001b[0m\u001b[0m\n",
            "\u001b[0;31mNameError\u001b[0m: name 'pd' is not defined"
          ]
        }
      ],
      "source": [
        "pd # Import Pandas as pd # Create a small dataset\n",
        "data = {\"Name\": [\"Alice\", \"Bob\", \"Charlie\"], \"Age\": [25, 30, 35]}\n",
        "df = pd.DataFrame(data) # Convert dictionary to DataFrame print(df)\n",
        "df[\"Country\"] = [\"USA\", \"Canada\", \"UK\"]\n",
        "df.sort_values(by=\"Age\")\n",
        "df[df[\"Age\"] > 25]"
      ]
    },
    {
      "cell_type": "code",
      "source": [
        "import pandas as pd  # ✅ Import pandas and give it an alias 'pd'\n",
        "\n",
        "# Create a small dataset\n",
        "data = {\"Name\": [\"Alice\", \"Bob\", \"Charlie\"], \"Age\": [25, 30, 35]}\n",
        "df = pd.DataFrame(data)  # Convert dictionary to DataFrame\n",
        "\n",
        "# Add a new column\n",
        "df[\"Country\"] = [\"USA\", \"Canada\", \"UK\"]\n",
        "\n",
        "# Sort the DataFrame by Age\n",
        "sorted_df = df.sort_values(by=\"Age\")\n",
        "\n",
        "# Filter rows where Age is greater than 25\n",
        "filtered_df = df[df[\"Age\"] > 25]\n",
        "\n",
        "# Print results\n",
        "print(\"Full DataFrame:\\n\", df)\n",
        "print(\"\\nSorted by Age:\\n\", sorted_df)\n",
        "print(\"\\nFiltered (Age > 25):\\n\", filtered_df)\n"
      ],
      "metadata": {
        "colab": {
          "base_uri": "https://localhost:8080/"
        },
        "id": "cyT_vStdEvJC",
        "outputId": "69eb6fa2-1153-46a4-abac-17b8aaf9e2df"
      },
      "execution_count": 9,
      "outputs": [
        {
          "output_type": "stream",
          "name": "stdout",
          "text": [
            "Full DataFrame:\n",
            "       Name  Age Country\n",
            "0    Alice   25     USA\n",
            "1      Bob   30  Canada\n",
            "2  Charlie   35      UK\n",
            "\n",
            "Sorted by Age:\n",
            "       Name  Age Country\n",
            "0    Alice   25     USA\n",
            "1      Bob   30  Canada\n",
            "2  Charlie   35      UK\n",
            "\n",
            "Filtered (Age > 25):\n",
            "       Name  Age Country\n",
            "1      Bob   30  Canada\n",
            "2  Charlie   35      UK\n"
          ]
        }
      ]
    },
    {
      "cell_type": "code",
      "source": [
        "# Importing pandas\n",
        "import pandas as pd\n",
        "\n",
        "#Upload the CSV file and read it into a DataFrame\n",
        "from google.colab import files\n",
        "uploaded = files.upload()\n",
        "\n",
        "# Assuming the file name is 'movies.CSV'\n",
        "df = pd.read_csv('dummy_movies_dataset.csv')\n",
        "\n",
        "# Inspect the first few rows of the DataFrame\n",
        "print(\"Frist five rows of the dataset:\")\n",
        "print(df.head())\n",
        "\n",
        "\n",
        "# Get a summary of the DataFrame\n",
        "print(\"\\nDataFrame summary:\")\n",
        "print(df.info())"
      ],
      "metadata": {
        "colab": {
          "base_uri": "https://localhost:8080/",
          "height": 455
        },
        "id": "60bhvRL7Huai",
        "outputId": "a839dabb-6554-46eb-886c-34408716b6f6"
      },
      "execution_count": 11,
      "outputs": [
        {
          "output_type": "display_data",
          "data": {
            "text/plain": [
              "<IPython.core.display.HTML object>"
            ],
            "text/html": [
              "\n",
              "     <input type=\"file\" id=\"files-6d82153e-e691-4a38-9412-1c9aa56ce47e\" name=\"files[]\" multiple disabled\n",
              "        style=\"border:none\" />\n",
              "     <output id=\"result-6d82153e-e691-4a38-9412-1c9aa56ce47e\">\n",
              "      Upload widget is only available when the cell has been executed in the\n",
              "      current browser session. Please rerun this cell to enable.\n",
              "      </output>\n",
              "      <script>// Copyright 2017 Google LLC\n",
              "//\n",
              "// Licensed under the Apache License, Version 2.0 (the \"License\");\n",
              "// you may not use this file except in compliance with the License.\n",
              "// You may obtain a copy of the License at\n",
              "//\n",
              "//      http://www.apache.org/licenses/LICENSE-2.0\n",
              "//\n",
              "// Unless required by applicable law or agreed to in writing, software\n",
              "// distributed under the License is distributed on an \"AS IS\" BASIS,\n",
              "// WITHOUT WARRANTIES OR CONDITIONS OF ANY KIND, either express or implied.\n",
              "// See the License for the specific language governing permissions and\n",
              "// limitations under the License.\n",
              "\n",
              "/**\n",
              " * @fileoverview Helpers for google.colab Python module.\n",
              " */\n",
              "(function(scope) {\n",
              "function span(text, styleAttributes = {}) {\n",
              "  const element = document.createElement('span');\n",
              "  element.textContent = text;\n",
              "  for (const key of Object.keys(styleAttributes)) {\n",
              "    element.style[key] = styleAttributes[key];\n",
              "  }\n",
              "  return element;\n",
              "}\n",
              "\n",
              "// Max number of bytes which will be uploaded at a time.\n",
              "const MAX_PAYLOAD_SIZE = 100 * 1024;\n",
              "\n",
              "function _uploadFiles(inputId, outputId) {\n",
              "  const steps = uploadFilesStep(inputId, outputId);\n",
              "  const outputElement = document.getElementById(outputId);\n",
              "  // Cache steps on the outputElement to make it available for the next call\n",
              "  // to uploadFilesContinue from Python.\n",
              "  outputElement.steps = steps;\n",
              "\n",
              "  return _uploadFilesContinue(outputId);\n",
              "}\n",
              "\n",
              "// This is roughly an async generator (not supported in the browser yet),\n",
              "// where there are multiple asynchronous steps and the Python side is going\n",
              "// to poll for completion of each step.\n",
              "// This uses a Promise to block the python side on completion of each step,\n",
              "// then passes the result of the previous step as the input to the next step.\n",
              "function _uploadFilesContinue(outputId) {\n",
              "  const outputElement = document.getElementById(outputId);\n",
              "  const steps = outputElement.steps;\n",
              "\n",
              "  const next = steps.next(outputElement.lastPromiseValue);\n",
              "  return Promise.resolve(next.value.promise).then((value) => {\n",
              "    // Cache the last promise value to make it available to the next\n",
              "    // step of the generator.\n",
              "    outputElement.lastPromiseValue = value;\n",
              "    return next.value.response;\n",
              "  });\n",
              "}\n",
              "\n",
              "/**\n",
              " * Generator function which is called between each async step of the upload\n",
              " * process.\n",
              " * @param {string} inputId Element ID of the input file picker element.\n",
              " * @param {string} outputId Element ID of the output display.\n",
              " * @return {!Iterable<!Object>} Iterable of next steps.\n",
              " */\n",
              "function* uploadFilesStep(inputId, outputId) {\n",
              "  const inputElement = document.getElementById(inputId);\n",
              "  inputElement.disabled = false;\n",
              "\n",
              "  const outputElement = document.getElementById(outputId);\n",
              "  outputElement.innerHTML = '';\n",
              "\n",
              "  const pickedPromise = new Promise((resolve) => {\n",
              "    inputElement.addEventListener('change', (e) => {\n",
              "      resolve(e.target.files);\n",
              "    });\n",
              "  });\n",
              "\n",
              "  const cancel = document.createElement('button');\n",
              "  inputElement.parentElement.appendChild(cancel);\n",
              "  cancel.textContent = 'Cancel upload';\n",
              "  const cancelPromise = new Promise((resolve) => {\n",
              "    cancel.onclick = () => {\n",
              "      resolve(null);\n",
              "    };\n",
              "  });\n",
              "\n",
              "  // Wait for the user to pick the files.\n",
              "  const files = yield {\n",
              "    promise: Promise.race([pickedPromise, cancelPromise]),\n",
              "    response: {\n",
              "      action: 'starting',\n",
              "    }\n",
              "  };\n",
              "\n",
              "  cancel.remove();\n",
              "\n",
              "  // Disable the input element since further picks are not allowed.\n",
              "  inputElement.disabled = true;\n",
              "\n",
              "  if (!files) {\n",
              "    return {\n",
              "      response: {\n",
              "        action: 'complete',\n",
              "      }\n",
              "    };\n",
              "  }\n",
              "\n",
              "  for (const file of files) {\n",
              "    const li = document.createElement('li');\n",
              "    li.append(span(file.name, {fontWeight: 'bold'}));\n",
              "    li.append(span(\n",
              "        `(${file.type || 'n/a'}) - ${file.size} bytes, ` +\n",
              "        `last modified: ${\n",
              "            file.lastModifiedDate ? file.lastModifiedDate.toLocaleDateString() :\n",
              "                                    'n/a'} - `));\n",
              "    const percent = span('0% done');\n",
              "    li.appendChild(percent);\n",
              "\n",
              "    outputElement.appendChild(li);\n",
              "\n",
              "    const fileDataPromise = new Promise((resolve) => {\n",
              "      const reader = new FileReader();\n",
              "      reader.onload = (e) => {\n",
              "        resolve(e.target.result);\n",
              "      };\n",
              "      reader.readAsArrayBuffer(file);\n",
              "    });\n",
              "    // Wait for the data to be ready.\n",
              "    let fileData = yield {\n",
              "      promise: fileDataPromise,\n",
              "      response: {\n",
              "        action: 'continue',\n",
              "      }\n",
              "    };\n",
              "\n",
              "    // Use a chunked sending to avoid message size limits. See b/62115660.\n",
              "    let position = 0;\n",
              "    do {\n",
              "      const length = Math.min(fileData.byteLength - position, MAX_PAYLOAD_SIZE);\n",
              "      const chunk = new Uint8Array(fileData, position, length);\n",
              "      position += length;\n",
              "\n",
              "      const base64 = btoa(String.fromCharCode.apply(null, chunk));\n",
              "      yield {\n",
              "        response: {\n",
              "          action: 'append',\n",
              "          file: file.name,\n",
              "          data: base64,\n",
              "        },\n",
              "      };\n",
              "\n",
              "      let percentDone = fileData.byteLength === 0 ?\n",
              "          100 :\n",
              "          Math.round((position / fileData.byteLength) * 100);\n",
              "      percent.textContent = `${percentDone}% done`;\n",
              "\n",
              "    } while (position < fileData.byteLength);\n",
              "  }\n",
              "\n",
              "  // All done.\n",
              "  yield {\n",
              "    response: {\n",
              "      action: 'complete',\n",
              "    }\n",
              "  };\n",
              "}\n",
              "\n",
              "scope.google = scope.google || {};\n",
              "scope.google.colab = scope.google.colab || {};\n",
              "scope.google.colab._files = {\n",
              "  _uploadFiles,\n",
              "  _uploadFilesContinue,\n",
              "};\n",
              "})(self);\n",
              "</script> "
            ]
          },
          "metadata": {}
        },
        {
          "output_type": "stream",
          "name": "stdout",
          "text": [
            "Saving dummy_movies_dataset.csv to dummy_movies_dataset (2).csv\n",
            "Frist five rows of the dataset:\n",
            "        Title    Genre  Release Year  Rating  Duration\n",
            "0   Inception   Sci-Fi        2010.0    8.80       148\n",
            "1  The Matrix   Action           NaN   99.99       136\n",
            "2     Titanic  Romance        1997.0    7.80       195\n",
            "3      Avatar   Sci-Fi           NaN    9.00       162\n",
            "4   Gladiator   Action        2000.0     NaN       155\n",
            "\n",
            "DataFrame summary:\n",
            "<class 'pandas.core.frame.DataFrame'>\n",
            "RangeIndex: 5 entries, 0 to 4\n",
            "Data columns (total 5 columns):\n",
            " #   Column        Non-Null Count  Dtype  \n",
            "---  ------        --------------  -----  \n",
            " 0   Title         5 non-null      object \n",
            " 1   Genre         5 non-null      object \n",
            " 2   Release Year  3 non-null      float64\n",
            " 3   Rating        4 non-null      float64\n",
            " 4   Duration      5 non-null      int64  \n",
            "dtypes: float64(2), int64(1), object(2)\n",
            "memory usage: 332.0+ bytes\n",
            "None\n"
          ]
        }
      ]
    },
    {
      "cell_type": "code",
      "source": [
        "# Example: Detecting and handling missing values\n",
        "import pandas as pd\n",
        "\n",
        "import numpy as np\n",
        "\n",
        "# Create a sample DataFrame\n",
        "dats = { 'Movie': ['Inception', 'Avatar', 'Titanic', 'Joker'],\n",
        "        'Rating': [8.8, None, 7.8, 8.5],\n",
        "         'Year': [2010, 2009, None, 2019]\n",
        "         }\n",
        "\n",
        "df = pd.DataFrame(dats)\n",
        "\n",
        "# Detect missing values\n",
        "print(\"Missing values in DataFrame:\\n\", df.isnull())\n",
        "\n",
        "\n",
        "#Fill missing values with an average or specific value\n",
        "df_filled = df.fillna({'Rating': df['Rating'].mean(), 'Year': 'Unknown'})\n",
        "\n",
        "#Drop rows with any missing values\n",
        "df_dropped = df.dropna()\n",
        "\n",
        "print(\"\\nDataFrame after filling missing values:\\n\", df_filled)\n",
        "print(\"\\nDataFrame after dropping rows with missing values:\\n\", df_dropped)\n"
      ],
      "metadata": {
        "colab": {
          "base_uri": "https://localhost:8080/"
        },
        "id": "gCCvNUttNaR8",
        "outputId": "939498f8-74d1-42da-eac8-b0ddf02592d8"
      },
      "execution_count": 13,
      "outputs": [
        {
          "output_type": "stream",
          "name": "stdout",
          "text": [
            "Missing values in DataFrame:\n",
            "    Movie  Rating   Year\n",
            "0  False   False  False\n",
            "1  False    True  False\n",
            "2  False   False   True\n",
            "3  False   False  False\n",
            "\n",
            "DataFrame after filling missing values:\n",
            "        Movie    Rating     Year\n",
            "0  Inception  8.800000   2010.0\n",
            "1     Avatar  8.366667   2009.0\n",
            "2    Titanic  7.800000  Unknown\n",
            "3      Joker  8.500000   2019.0\n",
            "\n",
            "DataFrame after dropping rows with missing values:\n",
            "        Movie  Rating    Year\n",
            "0  Inception     8.8  2010.0\n",
            "3      Joker     8.5  2019.0\n"
          ]
        }
      ]
    },
    {
      "cell_type": "code",
      "source": [],
      "metadata": {
        "id": "5sAPrNIlezoS"
      },
      "execution_count": null,
      "outputs": []
    },
    {
      "cell_type": "code",
      "source": [
        "#Example: Identifying and removing duplicate rows\n",
        "import pandas as pd\n",
        "\n",
        "data = {\n",
        "     'Movie':['Inception', 'Avatar', 'Inception', 'Joker'],\n",
        "     'Rating': [8.8, 7.8, 8.8, 8.5],\n",
        "     'Year': [2010, 2009, 2010, 2019]\n",
        " }\n",
        "\n",
        "df = pd.DataFrame(data)\n",
        "\n",
        "# Identify duplicates\n",
        "duplicates = df.duplicated()\n",
        "\n",
        "print(\"Duplicate rows:\\n\", duplicates)\n",
        "\n",
        "# Remove duplicates\n",
        "df_no_duplicates = df.drop_duplicates()\n",
        "\n",
        "print(\"\\nDataFrame after removing duplicates:\\n\", df_no_duplicates)"
      ],
      "metadata": {
        "colab": {
          "base_uri": "https://localhost:8080/"
        },
        "id": "Q12jfXsaW00C",
        "outputId": "ce72be76-550a-47e1-910d-484ca0d94d8a"
      },
      "execution_count": 17,
      "outputs": [
        {
          "output_type": "stream",
          "name": "stdout",
          "text": [
            "Duplicate rows:\n",
            " 0    False\n",
            "1    False\n",
            "2     True\n",
            "3    False\n",
            "dtype: bool\n",
            "\n",
            "DataFrame after removing duplicates:\n",
            "        Movie  Rating  Year\n",
            "0  Inception     8.8  2010\n",
            "1     Avatar     7.8  2009\n",
            "3      Joker     8.5  2019\n"
          ]
        }
      ]
    },
    {
      "cell_type": "code",
      "source": [
        "# Correcting data types\n",
        "df['Year'] = df['Year'].astype(str)\n",
        "\n",
        "print(\"DataFrame after converting 'Year to string:\\n,\", df)"
      ],
      "metadata": {
        "colab": {
          "base_uri": "https://localhost:8080/"
        },
        "id": "6oLUbPGhcqhu",
        "outputId": "58695f26-c5d8-4450-f0c3-80cee18e7d7b"
      },
      "execution_count": 18,
      "outputs": [
        {
          "output_type": "stream",
          "name": "stdout",
          "text": [
            "DataFrame after converting 'Year to string:\n",
            ",        Movie  Rating  Year\n",
            "0  Inception     8.8  2010\n",
            "1     Avatar     7.8  2009\n",
            "2  Inception     8.8  2010\n",
            "3      Joker     8.5  2019\n"
          ]
        }
      ]
    }
  ]
}