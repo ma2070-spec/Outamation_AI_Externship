{
  "nbformat": 4,
  "nbformat_minor": 0,
  "metadata": {
    "colab": {
      "provenance": [],
      "authorship_tag": "ABX9TyNynm4UY+lQMywHJFtSIsxW",
      "include_colab_link": true
    },
    "kernelspec": {
      "name": "python3",
      "display_name": "Python 3"
    },
    "language_info": {
      "name": "python"
    }
  },
  "cells": [
    {
      "cell_type": "markdown",
      "metadata": {
        "id": "view-in-github",
        "colab_type": "text"
      },
      "source": [
        "<a href=\"https://colab.research.google.com/github/ma2070-spec/Outamation_AI_Externship/blob/main/Week2_DocLLM_Classification_Prototype.ipynb\" target=\"_parent\"><img src=\"https://colab.research.google.com/assets/colab-badge.svg\" alt=\"Open In Colab\"/></a>"
      ]
    },
    {
      "cell_type": "code",
      "execution_count": 1,
      "metadata": {
        "colab": {
          "base_uri": "https://localhost:8080/"
        },
        "id": "39DRWZmH_0Ih",
        "outputId": "74a7c90d-028a-4157-b58c-867f87b9317d"
      },
      "outputs": [
        {
          "output_type": "stream",
          "name": "stdout",
          "text": [
            "Requirement already satisfied: langchain in /usr/local/lib/python3.11/dist-packages (0.3.26)\n",
            "Requirement already satisfied: openai in /usr/local/lib/python3.11/dist-packages (1.96.1)\n",
            "\u001b[31mERROR: Could not find a version that satisfies the requirement docllm (from versions: none)\u001b[0m\u001b[31m\n",
            "\u001b[0m\u001b[31mERROR: No matching distribution found for docllm\u001b[0m\u001b[31m\n",
            "\u001b[0m"
          ]
        }
      ],
      "source": [
        "!pip install langchain openai docllm\n"
      ]
    },
    {
      "cell_type": "code",
      "source": [
        "mortgage_text = \"\"\"\n",
        "Borrower: Mariam A. Applied on 06/14/2023\n",
        "Salary: $4,800/month. Loan Amount: $220,000\n",
        "Address: 101 Cedar Lane, Dallas TX\n",
        "Account #: 102938475610 | Routing #: 031000503\n",
        "\"\"\"\n"
      ],
      "metadata": {
        "id": "RfsuSzH2AuSn"
      },
      "execution_count": 5,
      "outputs": []
    },
    {
      "cell_type": "markdown",
      "source": [
        "mortgage_text = \"\"\"\n",
        "Borrower: Mariam A. Applied on 06/14/2023\n",
        "Salary: $4,800/month. Loan Amount: $220,000\n",
        "Address: 101 Cedar Lane, Dallas TX\n",
        "Account #: 102938475610 | Routing #: 031000503\n",
        "\"\"\"\n"
      ],
      "metadata": {
        "id": "_l1MNdI-A2p1"
      }
    },
    {
      "cell_type": "code",
      "source": [
        "from langchain.prompts import PromptTemplate\n",
        "\n",
        "# Define a prompt that tells the AI what to extract\n",
        "prompt = PromptTemplate.from_template(\n",
        "    \"Extract the following from this mortgage document:\\n\"\n",
        "    \"- Borrower Name\\n\"\n",
        "    \"- Application Date\\n\"\n",
        "    \"- Monthly Salary\\n\"\n",
        "    \"- Loan Amount\\n\"\n",
        "    \"- Address\\n\"\n",
        "    \"- Account Number\\n\"\n",
        "    \"- Routing Number\\n\\n\"\n",
        "    \"Document:\\n{document}\\n\\n\"\n",
        "    \"Answer:\"\n",
        ")\n",
        "\n",
        "# Format the prompt with the actual text\n",
        "filled_prompt = prompt.format(document=mortgage_text)\n",
        "\n",
        "print(filled_prompt)\n"
      ],
      "metadata": {
        "colab": {
          "base_uri": "https://localhost:8080/"
        },
        "id": "VsV-FbzoA_Fh",
        "outputId": "0dd0f0b6-9f19-44bb-ce65-14401237f48e"
      },
      "execution_count": 6,
      "outputs": [
        {
          "output_type": "stream",
          "name": "stdout",
          "text": [
            "Extract the following from this mortgage document:\n",
            "- Borrower Name\n",
            "- Application Date\n",
            "- Monthly Salary\n",
            "- Loan Amount\n",
            "- Address\n",
            "- Account Number\n",
            "- Routing Number\n",
            "\n",
            "Document:\n",
            "\n",
            "Borrower: Mariam A. Applied on 06/14/2023\n",
            "Salary: $4,800/month. Loan Amount: $220,000\n",
            "Address: 101 Cedar Lane, Dallas TX\n",
            "Account #: 102938475610 | Routing #: 031000503\n",
            "\n",
            "\n",
            "Answer:\n"
          ]
        }
      ]
    }
  ]
}