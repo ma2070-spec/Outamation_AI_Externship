{
  "nbformat": 4,
  "nbformat_minor": 0,
  "metadata": {
    "colab": {
      "provenance": [],
      "toc_visible": true,
      "authorship_tag": "ABX9TyMRYRDjV5WEm8uKG+kFvBIp",
      "include_colab_link": true
    },
    "kernelspec": {
      "name": "python3",
      "display_name": "Python 3"
    },
    "language_info": {
      "name": "python"
    }
  },
  "cells": [
    {
      "cell_type": "markdown",
      "metadata": {
        "id": "view-in-github",
        "colab_type": "text"
      },
      "source": [
        "<a href=\"https://colab.research.google.com/github/ma2070-spec/Outamation_AI_Externship/blob/main/Handeling_Nested_JSON_in_Python.ipynb\" target=\"_parent\"><img src=\"https://colab.research.google.com/assets/colab-badge.svg\" alt=\"Open In Colab\"/></a>"
      ]
    },
    {
      "cell_type": "code",
      "execution_count": 9,
      "metadata": {
        "colab": {
          "base_uri": "https://localhost:8080/"
        },
        "id": "dB7mUohporRq",
        "outputId": "23d57d65-dfeb-4016-d1e5-13025441fcd2"
      },
      "outputs": [
        {
          "output_type": "stream",
          "name": "stdout",
          "text": [
            "Order ID: 2\n",
            "Total: 180.75\n",
            "Items: ['Headphones']\n"
          ]
        }
      ],
      "source": [
        "import json\n",
        "\n",
        "# Corrected sample nested JSON string\n",
        "json_str = '''\n",
        "{\n",
        "    \"customer\": \"Alice\",\n",
        "    \"email\": \"alice@example.com\",\n",
        "    \"orders\": [\n",
        "        {\n",
        "            \"order_id\": 1,\n",
        "            \"total\": 250.50,\n",
        "            \"items\": [\"Laptop\", \"Mouse\"]\n",
        "        },\n",
        "        {\n",
        "            \"order_id\": 2,\n",
        "            \"total\": 180.75,\n",
        "            \"items\": [\"Headphones\"]\n",
        "        }\n",
        "    ]\n",
        "}\n",
        "'''\n",
        "\n",
        "# Convert JSON string to Python dictionary\n",
        "data = json.loads(json_str)\n",
        "\n",
        "# Access nested data\n",
        "second_order = data[\"orders\"][1]\n",
        "print(\"Order ID:\", second_order[\"order_id\"])  # 2\n",
        "print(\"Total:\", second_order[\"total\"])        # 180.75\n",
        "print(\"Items:\", second_order[\"items\"])        # [\"Headphones\"]\n",
        ""
      ]
    },
    {
      "cell_type": "code",
      "source": [
        "import pandas as pd\n",
        "\n",
        "# Ectract order data\n",
        "orders = data[\"orders\"]\n",
        "\n",
        "# Convert to DataFrame\n",
        "df = pd.DataFrame(orders)\n",
        "\n",
        "# Display DataFrame\n",
        "print(df)"
      ],
      "metadata": {
        "colab": {
          "base_uri": "https://localhost:8080/"
        },
        "id": "F8zbS_Umumbi",
        "outputId": "7a848f51-af09-4d78-c6f3-386a42ae3cff"
      },
      "execution_count": 10,
      "outputs": [
        {
          "output_type": "stream",
          "name": "stdout",
          "text": [
            "   order_id   total            items\n",
            "0         1  250.50  [Laptop, Mouse]\n",
            "1         2  180.75     [Headphones]\n"
          ]
        }
      ]
    },
    {
      "cell_type": "code",
      "source": [
        "import pandas as pd\n",
        "import json\n",
        "\n",
        "# Sample JSON string\n",
        "json_data = '''\n",
        "[\n",
        "    {\"order_id\": 1, \"total\": 250.50, \"items\": [\"Laptop\", \"Mouse\"]},\n",
        "    {\"order_id\": 2, \"total\": 180.75, \"items\": [\"Headphones\"]}\n",
        "]\n",
        "'''\n",
        "\n",
        "# Convert string to Python list of dicts\n",
        "orders = json.loads(json_data)\n",
        "\n",
        "# Load into DataFrame\n",
        "df = pd.DataFrame(orders)\n",
        "\n",
        "# View the DataFrame\n",
        "print(df.head())\n"
      ],
      "metadata": {
        "colab": {
          "base_uri": "https://localhost:8080/"
        },
        "id": "qphj_p520q-2",
        "outputId": "ab1b49f1-c07e-4268-c929-fe2b7b25c7b9"
      },
      "execution_count": 13,
      "outputs": [
        {
          "output_type": "stream",
          "name": "stdout",
          "text": [
            "   order_id   total            items\n",
            "0         1  250.50  [Laptop, Mouse]\n",
            "1         2  180.75     [Headphones]\n"
          ]
        }
      ]
    },
    {
      "cell_type": "code",
      "source": [
        "from pandas import json_normalize\n",
        "\n",
        "\n",
        "# Normalize JSON to extract 'orders' into a structured format\n",
        "df_orders = json_normalize(data, record_path=['orders'])\n",
        "\n",
        "print(df_orders)"
      ],
      "metadata": {
        "colab": {
          "base_uri": "https://localhost:8080/"
        },
        "id": "UDy2-5U02WFc",
        "outputId": "67613f64-6498-42b2-a9ef-280fa9f0571e"
      },
      "execution_count": 15,
      "outputs": [
        {
          "output_type": "stream",
          "name": "stdout",
          "text": [
            "   order_id   total            items\n",
            "0         1  250.50  [Laptop, Mouse]\n",
            "1         2  180.75     [Headphones]\n"
          ]
        }
      ]
    },
    {
      "cell_type": "code",
      "source": [
        "# Convert DataFrame back to JSON\n",
        "df.to_json(\"processed_orders.json\", orient=\"records\", indent=4)"
      ],
      "metadata": {
        "id": "gN1XchTK3NTK"
      },
      "execution_count": 19,
      "outputs": []
    },
    {
      "cell_type": "code",
      "source": [],
      "metadata": {
        "id": "oPAUKmhX4GS_"
      },
      "execution_count": null,
      "outputs": []
    },
    {
      "cell_type": "code",
      "source": [],
      "metadata": {
        "id": "fLxtpb9m39aJ"
      },
      "execution_count": null,
      "outputs": []
    }
  ]
}