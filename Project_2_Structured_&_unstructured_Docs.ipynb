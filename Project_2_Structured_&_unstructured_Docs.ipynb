{
  "nbformat": 4,
  "nbformat_minor": 0,
  "metadata": {
    "colab": {
      "provenance": [],
      "authorship_tag": "ABX9TyMw6H2yBySUAsoIUkagZ0G7",
      "include_colab_link": true
    },
    "kernelspec": {
      "name": "python3",
      "display_name": "Python 3"
    },
    "language_info": {
      "name": "python"
    }
  },
  "cells": [
    {
      "cell_type": "markdown",
      "metadata": {
        "id": "view-in-github",
        "colab_type": "text"
      },
      "source": [
        "<a href=\"https://colab.research.google.com/github/ma2070-spec/Outamation_AI_Externship/blob/main/Project_2_Structured_%26_unstructured_Docs.ipynb\" target=\"_parent\"><img src=\"https://colab.research.google.com/assets/colab-badge.svg\" alt=\"Open In Colab\"/></a>"
      ]
    },
    {
      "cell_type": "code",
      "execution_count": 8,
      "metadata": {
        "colab": {
          "base_uri": "https://localhost:8080/",
          "height": 211
        },
        "id": "YIsyuJRI_7Jc",
        "outputId": "2e03ae3e-9406-4e1f-b4f5-3ea6b57301d3"
      },
      "outputs": [
        {
          "output_type": "error",
          "ename": "NameError",
          "evalue": "name 'pd' is not defined",
          "traceback": [
            "\u001b[0;31m---------------------------------------------------------------------------\u001b[0m",
            "\u001b[0;31mNameError\u001b[0m                                 Traceback (most recent call last)",
            "\u001b[0;32m/tmp/ipython-input-257344203.py\u001b[0m in \u001b[0;36m<cell line: 0>\u001b[0;34m()\u001b[0m\n\u001b[0;32m----> 1\u001b[0;31m \u001b[0mpd\u001b[0m \u001b[0;31m# Import Pandas as pd # Create a small dataset\u001b[0m\u001b[0;34m\u001b[0m\u001b[0;34m\u001b[0m\u001b[0m\n\u001b[0m\u001b[1;32m      2\u001b[0m \u001b[0mdata\u001b[0m \u001b[0;34m=\u001b[0m \u001b[0;34m{\u001b[0m\u001b[0;34m\"Name\"\u001b[0m\u001b[0;34m:\u001b[0m \u001b[0;34m[\u001b[0m\u001b[0;34m\"Alice\"\u001b[0m\u001b[0;34m,\u001b[0m \u001b[0;34m\"Bob\"\u001b[0m\u001b[0;34m,\u001b[0m \u001b[0;34m\"Charlie\"\u001b[0m\u001b[0;34m]\u001b[0m\u001b[0;34m,\u001b[0m \u001b[0;34m\"Age\"\u001b[0m\u001b[0;34m:\u001b[0m \u001b[0;34m[\u001b[0m\u001b[0;36m25\u001b[0m\u001b[0;34m,\u001b[0m \u001b[0;36m30\u001b[0m\u001b[0;34m,\u001b[0m \u001b[0;36m35\u001b[0m\u001b[0;34m]\u001b[0m\u001b[0;34m}\u001b[0m\u001b[0;34m\u001b[0m\u001b[0;34m\u001b[0m\u001b[0m\n\u001b[1;32m      3\u001b[0m \u001b[0mdf\u001b[0m \u001b[0;34m=\u001b[0m \u001b[0mpd\u001b[0m\u001b[0;34m.\u001b[0m\u001b[0mDataFrame\u001b[0m\u001b[0;34m(\u001b[0m\u001b[0mdata\u001b[0m\u001b[0;34m)\u001b[0m \u001b[0;31m# Convert dictionary to DataFrame print(df)\u001b[0m\u001b[0;34m\u001b[0m\u001b[0;34m\u001b[0m\u001b[0m\n\u001b[1;32m      4\u001b[0m \u001b[0mdf\u001b[0m\u001b[0;34m[\u001b[0m\u001b[0;34m\"Country\"\u001b[0m\u001b[0;34m]\u001b[0m \u001b[0;34m=\u001b[0m \u001b[0;34m[\u001b[0m\u001b[0;34m\"USA\"\u001b[0m\u001b[0;34m,\u001b[0m \u001b[0;34m\"Canada\"\u001b[0m\u001b[0;34m,\u001b[0m \u001b[0;34m\"UK\"\u001b[0m\u001b[0;34m]\u001b[0m \u001b[0;31m#\u001b[0m\u001b[0;34m\u001b[0m\u001b[0;34m\u001b[0m\u001b[0m\n\u001b[1;32m      5\u001b[0m \u001b[0mdf\u001b[0m\u001b[0;34m.\u001b[0m\u001b[0msort_values\u001b[0m\u001b[0;34m(\u001b[0m\u001b[0mby\u001b[0m\u001b[0;34m=\u001b[0m\u001b[0;34m\"Age\"\u001b[0m\u001b[0;34m)\u001b[0m\u001b[0;34m\u001b[0m\u001b[0;34m\u001b[0m\u001b[0m\n",
            "\u001b[0;31mNameError\u001b[0m: name 'pd' is not defined"
          ]
        }
      ],
      "source": [
        "pd # Import Pandas as pd # Create a small dataset\n",
        "data = {\"Name\": [\"Alice\", \"Bob\", \"Charlie\"], \"Age\": [25, 30, 35]}\n",
        "df = pd.DataFrame(data) # Convert dictionary to DataFrame print(df)\n",
        "df[\"Country\"] = [\"USA\", \"Canada\", \"UK\"]\n",
        "df.sort_values(by=\"Age\")\n",
        "df[df[\"Age\"] > 25]"
      ]
    },
    {
      "cell_type": "code",
      "source": [
        "import pandas as pd  # ✅ Import pandas and give it an alias 'pd'\n",
        "\n",
        "# Create a small dataset\n",
        "data = {\"Name\": [\"Alice\", \"Bob\", \"Charlie\"], \"Age\": [25, 30, 35]}\n",
        "df = pd.DataFrame(data)  # Convert dictionary to DataFrame\n",
        "\n",
        "# Add a new column\n",
        "df[\"Country\"] = [\"USA\", \"Canada\", \"UK\"]  # ✅ Fixed missing comma issue in the list\n",
        "\n",
        "# Sort the DataFrame by Age\n",
        "sorted_df = df.sort_values(by=\"Age\")\n",
        "\n",
        "# Filter rows where Age is greater than 25\n",
        "filtered_df = df[df[\"Age\"] > 25]\n",
        "\n",
        "# Print results\n",
        "print(\"Full DataFrame:\\n\", df)\n",
        "print(\"\\nSorted by Age:\\n\", sorted_df)\n",
        "print(\"\\nFiltered (Age > 25):\\n\", filtered_df)\n"
      ],
      "metadata": {
        "colab": {
          "base_uri": "https://localhost:8080/"
        },
        "id": "cyT_vStdEvJC",
        "outputId": "69eb6fa2-1153-46a4-abac-17b8aaf9e2df"
      },
      "execution_count": 9,
      "outputs": [
        {
          "output_type": "stream",
          "name": "stdout",
          "text": [
            "Full DataFrame:\n",
            "       Name  Age Country\n",
            "0    Alice   25     USA\n",
            "1      Bob   30  Canada\n",
            "2  Charlie   35      UK\n",
            "\n",
            "Sorted by Age:\n",
            "       Name  Age Country\n",
            "0    Alice   25     USA\n",
            "1      Bob   30  Canada\n",
            "2  Charlie   35      UK\n",
            "\n",
            "Filtered (Age > 25):\n",
            "       Name  Age Country\n",
            "1      Bob   30  Canada\n",
            "2  Charlie   35      UK\n"
          ]
        }
      ]
    }
  ]
}